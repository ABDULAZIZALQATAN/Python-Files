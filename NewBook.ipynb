import matplotlib.pyplot as plt

def getIndexType(i):
    i = i.upper()
    switcher = {
        'U':"UnigramIndex",
        'B': "BigramIndex",
        'C' : "CombinedIndex",
        'F': "FieldedIndex"
    }
    return switcher.get(i,"")
def getMarker (i):
    switcher = {
        'U': "^", # Upper Triangle
        'B': "o", # Circle
        'C': "X", # X Filled
        'F': "*"  # Star
    }
    return switcher.get(i, "nothing")

def plotIndex(x,i):
    # Plot Specific Index Values
    y = getIndexValues(i)
    plt.plot(x, y, label=getIndexType(i),
             marker=getMarker(i),
             markerSize=8
             )
def getIndexValues(i):
    switcher = {
        'U': 5,  # Upper Triangle
        'B': 10,  # Circle
        'C': 15,  # X Filled
        'F': 20  # Star
    }
    add =  switcher.get(i, 0)
    return [i + add for i in range(9)]

def plotShow(x, y):
    xTitle = "Mean Average Precision"
    yTitle = "G - Gravity - B 0.5"
    pltTitle = "AQUAINT - PL2"
    plt.ylabel(yTitle)
    plt.xlabel(xTitle)
    plt.title(pltTitle)
    plt.legend()
    # The Properties are Here
    fSize = 16
    fWeight = 'bold'
    fFamily = "Times New Roman"
    plt.ylabel(yTitle,fontSize=fSize,  fontweight=fWeight, fontfamily=fFamily)
    plt.xlabel(xTitle,fontSize=fSize,  fontweight=fWeight, fontfamily=fFamily)
    plt.title(pltTitle,fontSize=fSize, fontweight=fWeight, fontfamily=fFamily)
    plt.rcParams['axes.linewidth'] = 2
    # *** End Of Properties 
    plt.show()

if __name__ == '__main__':
    x = range(9)
    y = [i + 5 for  i in range(9)]
    for i in ["U","B","C","F"]:
        plotIndex(x,i)
    plotShow(x, y)
